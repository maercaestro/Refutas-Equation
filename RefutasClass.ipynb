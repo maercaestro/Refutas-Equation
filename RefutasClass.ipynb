{
 "cells": [
  {
   "cell_type": "code",
   "execution_count": 27,
   "id": "93d302f5",
   "metadata": {},
   "outputs": [
    {
     "data": {
      "text/html": [
       "<div>\n",
       "<style scoped>\n",
       "    .dataframe tbody tr th:only-of-type {\n",
       "        vertical-align: middle;\n",
       "    }\n",
       "\n",
       "    .dataframe tbody tr th {\n",
       "        vertical-align: top;\n",
       "    }\n",
       "\n",
       "    .dataframe thead th {\n",
       "        text-align: right;\n",
       "    }\n",
       "</style>\n",
       "<table border=\"1\" class=\"dataframe\">\n",
       "  <thead>\n",
       "    <tr style=\"text-align: right;\">\n",
       "      <th></th>\n",
       "      <th>Flow</th>\n",
       "      <th>Viscosity</th>\n",
       "    </tr>\n",
       "  </thead>\n",
       "  <tbody>\n",
       "    <tr>\n",
       "      <th>0</th>\n",
       "      <td>15.11</td>\n",
       "      <td>4.253</td>\n",
       "    </tr>\n",
       "    <tr>\n",
       "      <th>1</th>\n",
       "      <td>35.65</td>\n",
       "      <td>4.113</td>\n",
       "    </tr>\n",
       "    <tr>\n",
       "      <th>2</th>\n",
       "      <td>65.11</td>\n",
       "      <td>4.054</td>\n",
       "    </tr>\n",
       "    <tr>\n",
       "      <th>3</th>\n",
       "      <td>20.33</td>\n",
       "      <td>3.990</td>\n",
       "    </tr>\n",
       "    <tr>\n",
       "      <th>4</th>\n",
       "      <td>21.14</td>\n",
       "      <td>4.120</td>\n",
       "    </tr>\n",
       "    <tr>\n",
       "      <th>5</th>\n",
       "      <td>15.72</td>\n",
       "      <td>4.330</td>\n",
       "    </tr>\n",
       "    <tr>\n",
       "      <th>6</th>\n",
       "      <td>10.31</td>\n",
       "      <td>4.400</td>\n",
       "    </tr>\n",
       "    <tr>\n",
       "      <th>7</th>\n",
       "      <td>14.45</td>\n",
       "      <td>4.112</td>\n",
       "    </tr>\n",
       "  </tbody>\n",
       "</table>\n",
       "</div>"
      ],
      "text/plain": [
       "    Flow  Viscosity\n",
       "0  15.11      4.253\n",
       "1  35.65      4.113\n",
       "2  65.11      4.054\n",
       "3  20.33      3.990\n",
       "4  21.14      4.120\n",
       "5  15.72      4.330\n",
       "6  10.31      4.400\n",
       "7  14.45      4.112"
      ]
     },
     "execution_count": 27,
     "metadata": {},
     "output_type": "execute_result"
    }
   ],
   "source": [
    "import pandas as pd\n",
    "import numpy as np\n",
    "\n",
    "df = pd.DataFrame({\n",
    "    'Flow': [15.11, 35.65, 65.11, 20.33, 21.14, 15.72, 10.31, 14.45],\n",
    "    'Viscosity': [4.253, 4.113, 4.054, 3.99, 4.12, 4.33, 4.400, 4.112]\n",
    "})\n",
    "df"
   ]
  },
  {
   "cell_type": "code",
   "execution_count": 39,
   "id": "90d3412c",
   "metadata": {},
   "outputs": [],
   "source": [
    "#define refutas class\n",
    "\n",
    "class Refutas():\n",
    "    def __init__(self,flow,viscosity):\n",
    "        self.flow=flow\n",
    "        self.viscosity=viscosity\n",
    "        \n",
    "    def weight_fraction(self,flow):\n",
    "        weight=(self.flow*0.861)/3600\n",
    "        total_mass=np.sum(weight)\n",
    "        weight_fraction=weight/total_mass\n",
    "        \n",
    "        return weight_fraction\n",
    "    \n",
    "    def blending_index(self,viscosity):\n",
    "        blending_idx=14.534*np.log(np.log(self.viscosity+0.8))+10.975\n",
    "        return blending_idx\n",
    "    \n",
    "    def average_index(self,blending_idx,weight_fraction):\n",
    "        avg_index=sum(blending_idx*weight_fraction)\n",
    "        \n",
    "        return avg_index\n",
    "    \n",
    "    def refutas(self,avg_index):\n",
    "        mixkv=np.exp(np.exp((avg_index-10.975)/14.534))-0.8\n",
    "        \n",
    "        return mixkv"
   ]
  },
  {
   "cell_type": "code",
   "execution_count": 40,
   "id": "1628d799",
   "metadata": {},
   "outputs": [],
   "source": [
    "mix=Refutas(df['Flow'],df['Viscosity'])\n",
    "berat=mix.weight_fraction(df['Flow'])\n",
    "index=mix.blending_index(df['Viscosity'])"
   ]
  },
  {
   "cell_type": "code",
   "execution_count": 41,
   "id": "331926ba",
   "metadata": {},
   "outputs": [
    {
     "data": {
      "text/plain": [
       "4.1225586732912936"
      ]
     },
     "execution_count": 41,
     "metadata": {},
     "output_type": "execute_result"
    }
   ],
   "source": [
    "avgidx=mix.average_index(index,berat)\n",
    "mix_kv=mix.refutas(avgidx)\n",
    "mix_kv"
   ]
  },
  {
   "cell_type": "code",
   "execution_count": null,
   "id": "4d15d0ac",
   "metadata": {},
   "outputs": [],
   "source": []
  }
 ],
 "metadata": {
  "kernelspec": {
   "display_name": "Python 3 (ipykernel)",
   "language": "python",
   "name": "python3"
  },
  "language_info": {
   "codemirror_mode": {
    "name": "ipython",
    "version": 3
   },
   "file_extension": ".py",
   "mimetype": "text/x-python",
   "name": "python",
   "nbconvert_exporter": "python",
   "pygments_lexer": "ipython3",
   "version": "3.10.9"
  }
 },
 "nbformat": 4,
 "nbformat_minor": 5
}
